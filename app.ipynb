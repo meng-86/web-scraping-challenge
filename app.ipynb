{
 "cells": [
  {
   "cell_type": "code",
   "execution_count": null,
   "id": "b15a205f",
   "metadata": {},
   "outputs": [],
   "source": [
    "from flask import Flask, render_template, redirect\n",
    "import flask\n",
    "import scrape_mars\n",
    "import pymongo\n",
    "\n",
    "app = Flask(__name__)\n",
    "\n",
    "conn = 'mongodb://localhost:27017'\n",
    "\n",
    "client = pymongo.MongoClient(conn)\n",
    "\n",
    "db = client.mars\n",
    "\n",
    "\n",
    "@app.route('/')\n",
    "def index():\n",
    "    mars = list(db.data.find())\n",
    "    print(mars)\n",
    "\n",
    "    return render_template('index.html', mars=mars)\n",
    "\n",
    "@app.route('/scrape')\n",
    "def scrapes():\n",
    "    mars_data = scrape_mars.scrape()\n",
    "\n",
    "    db.data.drop()\n",
    "    db.data.insert_one(mars_data)\n",
    "\n",
    "    return redirect('/')\n",
    "    \n",
    "if __name__ == \"__main__\":\n",
    "    app.run(debug=True)"
   ]
  }
 ],
 "metadata": {
  "kernelspec": {
   "display_name": "Python 3 (ipykernel)",
   "language": "python",
   "name": "python3"
  },
  "language_info": {
   "codemirror_mode": {
    "name": "ipython",
    "version": 3
   },
   "file_extension": ".py",
   "mimetype": "text/x-python",
   "name": "python",
   "nbconvert_exporter": "python",
   "pygments_lexer": "ipython3",
   "version": "3.8.12"
  }
 },
 "nbformat": 4,
 "nbformat_minor": 5
}
